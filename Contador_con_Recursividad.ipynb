{
  "nbformat": 4,
  "nbformat_minor": 0,
  "metadata": {
    "colab": {
      "name": "Contador_con_Recursividad.ipynb",
      "provenance": [],
      "collapsed_sections": []
    },
    "kernelspec": {
      "name": "python3",
      "display_name": "Python 3"
    },
    "language_info": {
      "name": "python"
    }
  },
  "cells": [
    {
      "cell_type": "code",
      "metadata": {
        "id": "aWRciEtWJWdm"
      },
      "source": [
        "def contador( n ):\n",
        "  if n > 0:\n",
        "    print( n )\n",
        "    contador( n - 1)\n",
        "   "
      ],
      "execution_count": 1,
      "outputs": []
    },
    {
      "cell_type": "code",
      "metadata": {
        "colab": {
          "base_uri": "https://localhost:8080/"
        },
        "id": "pTBMAITvNPw8",
        "outputId": "3c566aa3-3558-4a0b-bdb2-e2c8976247d9"
      },
      "source": [
        "contador (int (input('Introduzcal el valor de tu contador: ')))\n",
        "\n",
        "print('BOOOOOOOOOOOOOOOOOOOOOOOOOOOOOOOOOOM')"
      ],
      "execution_count": 2,
      "outputs": [
        {
          "output_type": "stream",
          "name": "stdout",
          "text": [
            "Introduzcal el valor de tu contador: 6\n",
            "6\n",
            "5\n",
            "4\n",
            "3\n",
            "2\n",
            "1\n",
            "BOOOOOOOOOOOOOOOOOOOOOOOOOOOOOOOOOOM\n"
          ]
        }
      ]
    }
  ]
}