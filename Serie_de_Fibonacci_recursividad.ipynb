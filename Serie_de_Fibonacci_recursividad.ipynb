{
  "nbformat": 4,
  "nbformat_minor": 0,
  "metadata": {
    "colab": {
      "name": "Serie_de_Fibonacci_recursividad.ipynb",
      "provenance": [],
      "collapsed_sections": []
    },
    "kernelspec": {
      "name": "python3",
      "display_name": "Python 3"
    },
    "language_info": {
      "name": "python"
    }
  },
  "cells": [
    {
      "cell_type": "code",
      "metadata": {
        "id": "aKtW-I7b3sRX"
      },
      "source": [
        "def Fibonacci( n ):\n",
        "  if n==0:\n",
        "    return 0\n",
        "  elif n == 1:\n",
        "    return 1\n",
        "  else:\n",
        "      return Fibonacci(n - 1) + Fibonacci(n - 2)  "
      ],
      "execution_count": null,
      "outputs": []
    },
    {
      "cell_type": "code",
      "metadata": {
        "colab": {
          "base_uri": "https://localhost:8080/"
        },
        "id": "mzoHCSkt5cId",
        "outputId": "1e7f6b00-a214-4e37-eab6-b72fb9d2b857"
      },
      "source": [
        "x = int (input('Introduce el número: '))\n",
        "\n",
        "resultado = Fibonacci( x )\n",
        "\n",
        "print( f' La serie de Fibonacci del numero {x}  es {resultado}')"
      ],
      "execution_count": null,
      "outputs": [
        {
          "output_type": "stream",
          "name": "stdout",
          "text": [
            "Introduce el número: 6\n",
            " La serie de Fibonacci del numero 6  es 8\n"
          ]
        }
      ]
    }
  ]
}