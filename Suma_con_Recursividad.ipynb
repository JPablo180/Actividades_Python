{
  "nbformat": 4,
  "nbformat_minor": 0,
  "metadata": {
    "colab": {
      "name": "Suma_con_Recursividad.ipynb",
      "provenance": [],
      "collapsed_sections": []
    },
    "kernelspec": {
      "name": "python3",
      "display_name": "Python 3"
    },
    "language_info": {
      "name": "python"
    }
  },
  "cells": [
    {
      "cell_type": "code",
      "metadata": {
        "id": "8aq2gtZJEBTp"
      },
      "source": [
        "def suma( n ):  \n",
        "  if n == 1:\n",
        "    return 1\n",
        "  else: \n",
        "    return n + suma(n - 1)\n"
      ],
      "execution_count": null,
      "outputs": []
    },
    {
      "cell_type": "code",
      "metadata": {
        "colab": {
          "base_uri": "https://localhost:8080/"
        },
        "id": "HbtceiSAHsdp",
        "outputId": "6de246de-aee3-4158-e281-caac9880ebb4"
      },
      "source": [
        "x = int (input('Introduce el numero para sumar recursivamente: ' ))\n",
        "\n",
        "resultado = suma( x )\n",
        "\n",
        "print(f'La suma con recursividad de {x} es {resultado}')"
      ],
      "execution_count": null,
      "outputs": [
        {
          "output_type": "stream",
          "name": "stdout",
          "text": [
            "Introduce el numero para sumar recursivamente: 9\n",
            "La suma con recursividad de 9 es 45\n"
          ]
        }
      ]
    }
  ]
}